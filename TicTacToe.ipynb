{
 "cells": [
  {
   "cell_type": "code",
   "execution_count": null,
   "metadata": {},
   "outputs": [],
   "source": [
    "from IPython.display import clear_output\n",
    "\n",
    "def display_board(board):\n",
    "    clear_output()   \n",
    "    \n",
    "    print(' ' + board[7] + ' | ' + board[8] + ' | ' + board[9])\n",
    "    print('-----------')\n",
    "    print(' ' + board[4] + ' | ' + board[5] + ' | ' + board[6])\n",
    "    print('-----------')\n",
    "    print(' ' + board[1] + ' | ' + board[2] + ' | ' + board[3])\n"
   ]
  },
  {
   "cell_type": "code",
   "execution_count": null,
   "metadata": {},
   "outputs": [],
   "source": [
    "def player_details(pd):\n",
    "    \n",
    "    pd['p1'][0]=input(\"Enter player-1 Name \").capitalize().replace(' ','')\n",
    "    pd['p2'][0]=input(\"Enter Player-2 Name \").capitalize().replace(' ','')\n",
    "    if  pd['p1'][0]==pd['p2'][0]:\n",
    "        print('Player names should be different')\n",
    "        player_details(pd)\n",
    "    "
   ]
  },
  {
   "cell_type": "code",
   "execution_count": null,
   "metadata": {},
   "outputs": [],
   "source": [
    "\n",
    "def choose_first():\n",
    "    if random.randint(0,1):\n",
    "        return 'p1','p2'\n",
    "    else:\n",
    "        return 'p2','p1'\n"
   ]
  },
  {
   "cell_type": "code",
   "execution_count": null,
   "metadata": {},
   "outputs": [],
   "source": [
    "def choose_marker(first,second,pd):\n",
    "    marker=''\n",
    "    print(f'{pd[first][0]} will go First..')\n",
    "    while marker not in ['X','O']:\n",
    "        marker=input(\"Choose your Marker ('X' or 'O') : \").upper()\n",
    "        if marker not in ['X','O']:\n",
    "            print(\"I dont understand choose wisely\")\n",
    "    \n",
    "    if marker=='X':\n",
    "        pd[first][1]='X'\n",
    "        pd[second][1]='O'\n",
    "    else:\n",
    "        pd[first][1]='O'\n",
    "        pd[second][1]='X'\n",
    "    \n",
    "    print()\n",
    "    print(f\"{pd[first][0]}'s Marker: {pd[first][1]}\")\n",
    "    print(f\"{pd[second][0]}'s Marker: {pd[second][1]}\")\n"
   ]
  },
  {
   "cell_type": "code",
   "execution_count": null,
   "metadata": {},
   "outputs": [],
   "source": [
    "def player_choice(board,p):\n",
    "    position = 0\n",
    "    \n",
    "    while position not in [1,2,3,4,5,6,7,8,9] or not space_check(board, position):\n",
    "        print(f'{pd[p][0]}s Turn:')\n",
    "        position = int(input())\n",
    "        \n",
    "    return position"
   ]
  },
  {
   "cell_type": "code",
   "execution_count": null,
   "metadata": {},
   "outputs": [],
   "source": [
    "def win_check(board,mark):\n",
    "    return ((board[7] == mark and board[8] == mark and board[9] == mark) or \n",
    "    (board[4] == mark and board[5] == mark and board[6] == mark) or  \n",
    "    (board[1] == mark and board[2] == mark and board[3] == mark) or  \n",
    "    (board[7] == mark and board[4] == mark and board[1] == mark) or \n",
    "    (board[8] == mark and board[5] == mark and board[2] == mark) or \n",
    "    (board[9] == mark and board[6] == mark and board[3] == mark) or  \n",
    "    (board[7] == mark and board[5] == mark and board[3] == mark) or  \n",
    "    (board[9] == mark and board[5] == mark and board[1] == mark))  "
   ]
  },
  {
   "cell_type": "code",
   "execution_count": null,
   "metadata": {},
   "outputs": [],
   "source": [
    "def space_check(board,position):\n",
    "    return board[position]==' '"
   ]
  },
  {
   "cell_type": "code",
   "execution_count": null,
   "metadata": {},
   "outputs": [],
   "source": [
    "def full_board_check(board):\n",
    "    for i in range(1,10):\n",
    "        if space_check(board, i):\n",
    "            return False\n",
    "    return True"
   ]
  },
  {
   "cell_type": "code",
   "execution_count": null,
   "metadata": {},
   "outputs": [],
   "source": [
    "def place_marker(board, marker, position):\n",
    "    board[position] = marker"
   ]
  },
  {
   "cell_type": "code",
   "execution_count": null,
   "metadata": {},
   "outputs": [],
   "source": [
    "def replay():\n",
    "    \n",
    "    return input('Do you want to play again? Enter Yes or No: ').lower().startswith('y')"
   ]
  },
  {
   "cell_type": "code",
   "execution_count": null,
   "metadata": {},
   "outputs": [],
   "source": [
    "import random\n",
    "print('Welcome to Tic Tac Toe!')\n",
    "\n",
    "while True:\n",
    "    board = [' ']*10\n",
    "    pd={'p1':[' ',' '],'p2':[' ',' ']}\n",
    "    player_details(pd)\n",
    "    print()\n",
    "    first,second=choose_first()\n",
    "    print\n",
    "    choose_marker(first,second,pd)\n",
    "    \n",
    "     \n",
    "    play_game = input('Are you ready to play? Enter Yes or No: ')\n",
    "    \n",
    "    if play_game.lower().startswith('y'):\n",
    "        game_on = True\n",
    "    else:\n",
    "        game_on = False\n",
    "    turn=first\n",
    "    while game_on:\n",
    "        if turn=='p1':\n",
    "             \n",
    "            \n",
    "            display_board(board)\n",
    "            position =  player_choice(board,'p1')\n",
    "            place_marker(board, pd['p1'][1], position)\n",
    "            \n",
    "            if win_check(board, pd['p1'][1]):\n",
    "                display_board(board)\n",
    "                print(f'Congratulations! {pd[first][0]} You have won the game!')\n",
    "                game_on = False\n",
    "            else:\n",
    "                if full_board_check(board):\n",
    "                    display_board(board)\n",
    "                    print('The game is draw!')\n",
    "                    break\n",
    "                else:\n",
    "                    turn = 'p2'\n",
    "\n",
    "        else:\n",
    "             \n",
    "            display_board(board)\n",
    "            position =  player_choice(board,'p2')\n",
    "            place_marker(board, pd['p2'][1], position)\n",
    "            \n",
    "            if win_check(board, pd['p2'][1]):\n",
    "                display_board(board)\n",
    "                print(f'Congratulations! {pd[second][0]} You have won the game!')\n",
    "                game_on = False\n",
    "            else:\n",
    "                if full_board_check(board):\n",
    "                    display_board(board)\n",
    "                    print('The game is draw!')\n",
    "                    break\n",
    "                else:\n",
    "                    turn = 'p1'\n",
    "\n",
    "    if not replay():\n",
    "        break"
   ]
  },
  {
   "cell_type": "code",
   "execution_count": null,
   "metadata": {},
   "outputs": [],
   "source": []
  }
 ],
 "metadata": {
  "kernelspec": {
   "display_name": "Python 3",
   "language": "python",
   "name": "python3"
  },
  "language_info": {
   "codemirror_mode": {
    "name": "ipython",
    "version": 3
   },
   "file_extension": ".py",
   "mimetype": "text/x-python",
   "name": "python",
   "nbconvert_exporter": "python",
   "pygments_lexer": "ipython3",
   "version": "3.8.5"
  }
 },
 "nbformat": 4,
 "nbformat_minor": 4
}
